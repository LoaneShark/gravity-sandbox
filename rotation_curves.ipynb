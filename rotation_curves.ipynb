{
 "cells": [
  {
   "cell_type": "code",
   "execution_count": 1,
   "id": "3ef390b9-f4b1-42e8-94ef-78960e2c956f",
   "metadata": {},
   "outputs": [],
   "source": [
    "from src.tools import *\n",
    "from src.main import *"
   ]
  },
  {
   "cell_type": "code",
   "execution_count": 2,
   "id": "226e394f-b175-4bd3-913c-f33c027bc754",
   "metadata": {},
   "outputs": [],
   "source": [
    "# Fetch the relevant rotation velocity metadata for given galaxy\n",
    "g_name     = lambda x: metadata[x]['Galaxy']\n",
    "g_type     = lambda x: metadata[x]['T']\n",
    "g_vel      = lambda x: metadata[x]['Vflat']\n",
    "g_vel_err  = lambda x: metadata[x]['e_Vflat']\n",
    "g_refs     = lambda x: metadata[x]['Refs']"
   ]
  },
  {
   "cell_type": "code",
   "execution_count": 3,
   "id": "89fc622e-741b-4d27-bfc9-2f3abda0096d",
   "metadata": {},
   "outputs": [],
   "source": [
    "massmodels = import_massmodel_data('./sparc/MassModels_Lelli2016c.mrt')\n",
    "mm_dict = {mm['ID']: massmodels[massmodels['ID'] == mm['ID']] for mm in massmodels}\n",
    "metadata, refs = import_galaxy_sample_data('./sparc/SPARC_Lelli2016c.mrt')\n",
    "btfr_data = import_btfr_data('./sparc/BTFR_Lelli2019.mrt')"
   ]
  },
  {
   "cell_type": "code",
   "execution_count": 4,
   "id": "9381ee86-3f16-4084-9676-dc14f7b4a11e",
   "metadata": {},
   "outputs": [],
   "source": [
    "# Select sample galaxy\n",
    "gal_id = 'UGCA442'\n",
    "n_rows, n_header = get_single_galaxy_N(gal_id,datapath='./sparc/sfb_LTG/')"
   ]
  },
  {
   "cell_type": "code",
   "execution_count": 5,
   "id": "f6df02a3-7e7f-4d95-a692-bc73c0c09c8d",
   "metadata": {},
   "outputs": [
    {
     "data": {
      "image/png": "[encoded data removed]",
      "text/plain": [
       "<Figure size 432x288 with 1 Axes>"
      ]
     },
     "metadata": {
      "needs_background": "light"
     },
     "output_type": "display_data"
    },
    {
     "name": "stdout",
     "output_type": "stream",
     "text": [
      "ID\tT\tD\te_D\tf_D\tInc\te_Inc\tL\te_L\tReff\tSBeff\tRdisk\tSBdisk\tMHI\tRHI\tVflat\te_Vflat\tQ\tRefs\n",
      "UGCA442\tSm\t4.35\t0.22\t2\t64.0\t7.0\t0.14\t0.005\t1.71\t7.6\t1.18\t116.1\t0.263\t4.37\t56.4\t2.1\t1\t['Co00']\n",
      "(1) Cote, S. et al. 2000, AJ, 120, 3027\n"
     ]
    }
   ],
   "source": [
    "# Plot the mass distribution for this galaxy, and print a summary of its metadata\n",
    "decomp_data = import_bulge_disk_decomps(datapath='./sparc/BulgeDiskDec_LTG/',gal_ID=gal_id)\n",
    "plot_single_galaxy_decomp(decomp_data, gal_id)\n",
    "\n",
    "print('\\t'.join(['ID'] + [d_name for d_name in metadata[gal_id].dtype.names]))\n",
    "print('\\t'.join([gal_id] + [str(item) if name != 'T' else str(hubble_types[item]) for item,name in zip(metadata[gal_id],metadata[gal_id].dtype.names)]))\n",
    "print('\\n'.join(['({}) '.format(cit_idx+1)+refs[cit_ref] for cit_ref,cit_idx in zip(metadata[gal_id]['Refs'],range(len(metadata[gal_id]['Refs'])))]))"
   ]
  },
  {
   "cell_type": "code",
   "execution_count": 7,
   "id": "d95955c3-bdf6-45fb-a0b9-307e2c0aeeaf",
   "metadata": {},
   "outputs": [
    {
     "data": {
      "image/png": "[encoded data removed]",
      "text/plain": [
       "<Figure size 432x288 with 1 Axes>"
      ]
     },
     "metadata": {
      "needs_background": "light"
     },
     "output_type": "display_data"
    }
   ],
   "source": [
    "# Plot rotation curve raw data and interpolated rotation curves\n",
    "fig,ax = plot_single_galaxy_mm(massmodels,gal_id,silent=True)\n",
    "\n",
    "# Get mass contribution at radius R\n",
    "R_max       = max(decomp_data['Radius'])       # Max (interpolated) radius data point\n",
    "M_gas       = 1.33*metadata[gal_id]['MHI']*1e9 # Gas contribution to mass (total), in units of M_sun (accounting for He)\n",
    "gas_mass    = lambda R : R*M_gas/R_max         # TODO: gas distribution over R? \n",
    "L_mass      = lambda L : 5.17e9*L              # Unit conversion from 1 Msun/Lsun to s^3/km^2\n",
    "SB_mass     = lambda SB: 4.041e-7*SB*L_mass(1) # Return mass in kg given SB (Lsun/pc^2) to kg*s^-3\n",
    "radial_mass = lambda R : sum([SB_mass(md_point)+SB_mass(mb_point)+gas_mass(r_point) for r_point,md_point,mb_point in zip(decomp_data['Radius'],decomp_data['SBdisk'],decomp_data['SBbulge']) if r_point <= R])\n",
    "\n",
    "## SPARC rotation curve\n",
    "# Upsilon := mass-to-light ratio in units of Msun/Lsun\n",
    "Ug          = 1\n",
    "Ud          = 0.5\n",
    "Ub          = 0.7 # Ubulge ~ 1.44 Udisk for bulge-heavy galaxies\n",
    "Ustar       = 1\n",
    "# Get Baryonic matter velocity contribution from gas, bulge, and disk velocities\n",
    "vel_bar     = lambda Vg,Vd,Vb : np.sqrt(abs(Vg)*Vg*Ug + abs(Vd)*Vd*Ud + abs(Vb)*Vb*Ub)\n",
    "## Classical (circular) rotation curve\n",
    "G = mound('G')*1e-9 # in km^3/(kg*s^2)\n",
    "vel_classical = lambda R: np.sqrt(G*radial_mass(R)/R)\n",
    "\n",
    "## Plotting\n",
    "# Plot classicaly predicted rotation curve [WIP]\n",
    "n_steps = 100\n",
    "x_classical = np.linspace(R_max/n_steps,R_max,num=n_steps)\n",
    "y_classical = [vel_classical(r_step) for r_step in np.linspace(R_max/n_steps,R_max,num=n_steps)]\n",
    "ax.plot(x_classical,y_classical,color='blue',linestyle='--')\n",
    "# Plot SPARC velocity curve\n",
    "R_max = max(mm_dict[gal_id]['R'])\n",
    "n_steps = 100\n",
    "x_sparc = mm_dict[gal_id]['R']\n",
    "y_sparc = [vel_bar(Vg,Vd,Vb) for Vg,Vd,Vb in zip(mm_dict[gal_id]['Vgas'],mm_dict[gal_id]['Vdisk'],mm_dict[gal_id]['Vbul'])]\n",
    "ax.plot(x_sparc,y_sparc,color='green',linestyle='--',label='SPARC')\n",
    "plt.show()"
   ]
  },
  {
   "cell_type": "code",
   "execution_count": null,
   "id": "6b784340-5df6-4c47-8adb-d047df26d18b",
   "metadata": {},
   "outputs": [],
   "source": []
  }
 ],
 "metadata": {
  "kernelspec": {
   "display_name": "Python 3 (ipykernel)",
   "language": "python",
   "name": "python3"
  },
  "language_info": {
   "codemirror_mode": {
    "name": "ipython",
    "version": 3
   },
   "file_extension": ".py",
   "mimetype": "text/x-python",
   "name": "python",
   "nbconvert_exporter": "python",
   "pygments_lexer": "ipython3",
   "version": "3.8.3"
  }
 },
 "nbformat": 4,
 "nbformat_minor": 5
}
