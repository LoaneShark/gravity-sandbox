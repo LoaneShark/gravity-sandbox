{
 "cells": [
  {
   "cell_type": "code",
   "execution_count": 1,
   "id": "bb1552ac-8155-47f7-a3ce-4372b5d41629",
   "metadata": {},
   "outputs": [],
   "source": [
    "import src.tools\n",
    "from src.main import *"
   ]
  },
  {
   "cell_type": "code",
   "execution_count": 2,
   "id": "12b4dc46-0b54-4f6f-9578-b6d250ef2582",
   "metadata": {},
   "outputs": [],
   "source": [
    "massmodels = import_massmodel_data(filepath='./sparc/MassModels_Lelli2016c.mrt')\n",
    "mm_dict = {mm['ID']: massmodels[massmodels['ID'] == mm['ID']] for mm in massmodels}\n",
    "metadata, refs = import_galaxy_sample_data(filepath='./sparc/SPARC_Lelli2016c.mrt')"
   ]
  },
  {
   "cell_type": "code",
   "execution_count": 3,
   "id": "57ee2c5b-3e19-4cb5-988e-024e7ca6fa5a",
   "metadata": {},
   "outputs": [],
   "source": [
    "gal_id = 'UGCA442'"
   ]
  },
  {
   "cell_type": "code",
   "execution_count": 4,
   "id": "10304822-566e-474c-95ee-2764083df5b4",
   "metadata": {},
   "outputs": [
    {
     "name": "stdout",
     "output_type": "stream",
     "text": [
      "[('UGCA442', 4.35, 0.42, 14.2, 1.91,  4.87,  4.78, 0., 11.05, 0.)\n",
      " ('UGCA442', 4.35, 1.26, 28.6, 1.82, 13.14, 10.76, 0.,  5.81, 0.)\n",
      " ('UGCA442', 4.35, 2.11, 41. , 1.74, 19.65, 13.6 , 0.,  2.75, 0.)\n",
      " ('UGCA442', 4.35, 2.96, 49. , 1.91, 22.42, 13.29, 0.,  1.  , 0.)\n",
      " ('UGCA442', 4.35, 3.79, 54.8, 2.05, 22.82, 12.56, 0.,  0.72, 0.)\n",
      " ('UGCA442', 4.35, 4.65, 56.4, 3.12, 21.37, 12.33, 0.,  0.43, 0.)\n",
      " ('UGCA442', 4.35, 5.48, 57.8, 2.83, 18.73, 12.04, 0.,  0.18, 0.)\n",
      " ('UGCA442', 4.35, 6.33, 56.5, 0.65, 16.75, 10.62, 0.,  0.  , 0.)]\n",
      "('UGCA442', 9, 4.35, 0.22, 2, 64., 7., 0.14, 0.005, 1.71, 7.6, 1.18, 116.1, 0.263, 4.37, 56.4, 2.1, 1, 'Co00')\n",
      "Cote, S. et al. 2000, AJ, 120, 3027\n"
     ]
    }
   ],
   "source": [
    "print(mm_dict[gal_id])\n",
    "print(metadata[gal_id])\n",
    "print(refs[metadata[gal_id]['Ref']])"
   ]
  },
  {
   "cell_type": "code",
   "execution_count": 5,
   "id": "6938a7a4-f740-4f78-8588-57fb5ccbda9a",
   "metadata": {},
   "outputs": [
    {
     "data": {
      "image/png": "[encoded data removed]",
      "text/plain": [
       "<Figure size 432x288 with 1 Axes>"
      ]
     },
     "metadata": {
      "needs_background": "light"
     },
     "output_type": "display_data"
    }
   ],
   "source": [
    "plot_single_galaxy(massmodels,gal_id)"
   ]
  },
  {
   "cell_type": "code",
   "execution_count": null,
   "id": "7d5df59d-2001-4308-8bff-10fbf283b2d4",
   "metadata": {},
   "outputs": [],
   "source": []
  }
 ],
 "metadata": {
  "kernelspec": {
   "display_name": "Python 3 (ipykernel)",
   "language": "python",
   "name": "python3"
  },
  "language_info": {
   "codemirror_mode": {
    "name": "ipython",
    "version": 3
   },
   "file_extension": ".py",
   "mimetype": "text/x-python",
   "name": "python",
   "nbconvert_exporter": "python",
   "pygments_lexer": "ipython3",
   "version": "3.8.3"
  }
 },
 "nbformat": 4,
 "nbformat_minor": 5
}
