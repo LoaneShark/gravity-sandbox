{
 "cells": [
  {
   "cell_type": "code",
   "execution_count": 1,
   "id": "bb1552ac-8155-47f7-a3ce-4372b5d41629",
   "metadata": {},
   "outputs": [],
   "source": [
    "from src.tools import *\n",
    "from src.main import *"
   ]
  },
  {
   "cell_type": "code",
   "execution_count": 2,
   "id": "12b4dc46-0b54-4f6f-9578-b6d250ef2582",
   "metadata": {},
   "outputs": [],
   "source": [
    "massmodels = import_massmodel_data(filepath='./sparc/MassModels_Lelli2016c.mrt')\n",
    "mm_dict = {mm['ID']: massmodels[massmodels['ID'] == mm['ID']] for mm in massmodels}\n",
    "metadata, refs = import_galaxy_sample_data(filepath='./sparc/SPARC_Lelli2016c.mrt')"
   ]
  },
  {
   "cell_type": "code",
   "execution_count": 3,
   "id": "57ee2c5b-3e19-4cb5-988e-024e7ca6fa5a",
   "metadata": {},
   "outputs": [],
   "source": [
    "gal_id = 'UGCA442'\n",
    "n_rows = 27\n",
    "#gal_id = 'CamB'\n",
    "#n_rows = 24"
   ]
  },
  {
   "cell_type": "code",
   "execution_count": 4,
   "id": "10304822-566e-474c-95ee-2764083df5b4",
   "metadata": {},
   "outputs": [
    {
     "name": "stdout",
     "output_type": "stream",
     "text": [
      "ID\tT\tD\te_D\tf_D\tInc\te_Inc\tL\te_L\tReff\tSBeff\tRdisk\tSBdisk\tMHI\tRHI\tVflat\te_Vflat\tQ\tRef\n",
      "UGCA442\tSm\t4.35\t0.22\t2\t64.0\t7.0\t0.14\t0.005\t1.71\t7.6\t1.18\t116.1\t0.263\t4.37\t56.4\t2.1\t1\tCo00\n",
      "Cote, S. et al. 2000, AJ, 120, 3027\n"
     ]
    }
   ],
   "source": [
    "# Print the overview for this galaxy\n",
    "print('\\t'.join(metadata[gal_id].dtype.names))\n",
    "print('\\t'.join([str(item) if name != 'T' else str(hubble_types[item]) for item,name in zip(metadata[gal_id],metadata[gal_id].dtype.names)]))\n",
    "print(refs[metadata[gal_id]['Ref']])"
   ]
  },
  {
   "cell_type": "code",
   "execution_count": 5,
   "id": "6938a7a4-f740-4f78-8588-57fb5ccbda9a",
   "metadata": {},
   "outputs": [
    {
     "data": {
      "image/png": "[encoded data removed]",
      "text/plain": [
       "<Figure size 432x288 with 1 Axes>"
      ]
     },
     "metadata": {
      "needs_background": "light"
     },
     "output_type": "display_data"
    },
    {
     "name": "stdout",
     "output_type": "stream",
     "text": [
      "D\tR\tVobs\te_Vobs\tVgas\tVdisk\tVbul\tSBdisk\tSBbul\n",
      " 4.35\t 0.42\t14.20\t 1.91\t 4.87\t 4.78\t 0.00\t11.05\t 0.00\n",
      " 4.35\t 1.26\t28.60\t 1.82\t13.14\t10.76\t 0.00\t 5.81\t 0.00\n",
      " 4.35\t 2.11\t41.00\t 1.74\t19.65\t13.60\t 0.00\t 2.75\t 0.00\n",
      " 4.35\t 2.96\t49.00\t 1.91\t22.42\t13.29\t 0.00\t 1.00\t 0.00\n",
      " 4.35\t 3.79\t54.80\t 2.05\t22.82\t12.56\t 0.00\t 0.72\t 0.00\n",
      " 4.35\t 4.65\t56.40\t 3.12\t21.37\t12.33\t 0.00\t 0.43\t 0.00\n",
      " 4.35\t 5.48\t57.80\t 2.83\t18.73\t12.04\t 0.00\t 0.18\t 0.00\n",
      " 4.35\t 6.33\t56.50\t 0.65\t16.75\t10.62\t 0.00\t 0.00\t 0.00\n"
     ]
    }
   ],
   "source": [
    "plot_single_galaxy_mm(massmodels,gal_id)\n",
    "\n",
    "# Print the raw data for this galaxy as well\n",
    "labels = mm_dict[gal_id].dtype.names[1:]\n",
    "print('\\t'.join(labels))\n",
    "for mm_line in mm_dict[gal_id]:\n",
    "    print_arr = ['{:>5.2f}'.format(arr_item) for arr_item in [item for item in mm_line][1:]]\n",
    "    print('\\t'.join(print_arr))"
   ]
  },
  {
   "cell_type": "code",
   "execution_count": 10,
   "id": "7d5df59d-2001-4308-8bff-10fbf283b2d4",
   "metadata": {},
   "outputs": [
    {
     "data": {
      "image/png": "[encoded data removed]",
      "text/plain": [
       "<Figure size 432x288 with 1 Axes>"
      ]
     },
     "metadata": {
      "needs_background": "light"
     },
     "output_type": "display_data"
    },
    {
     "name": "stdout",
     "output_type": "stream",
     "text": [
      "Photometric Data\n",
      "Radius    mu        Kill      Error   \n",
      "    2.40    19.906     False     0.025\n",
      "    2.88    20.077      True     0.029\n",
      "    3.46    20.173      True     0.031\n",
      "    4.15    20.175      True     0.031\n",
      "    4.98    20.160      True     0.031\n",
      "    5.97    20.109      True     0.036\n",
      "    7.17    20.015      True     0.040\n",
      "    8.60    20.040      True     0.036\n",
      "   10.32    20.146      True     0.031\n",
      "   12.38    20.117      True     0.037\n",
      "   14.86    20.047      True     0.040\n",
      "   17.83    20.057      True     0.049\n",
      "   21.40    20.077      True     0.049\n",
      "   25.68    20.246      True     0.039\n",
      "   30.81    20.293      True     0.037\n",
      "   36.98    20.325      True     0.038\n",
      "   44.37    20.497      True     0.041\n",
      "   53.25    20.671      True     0.048\n",
      "   63.90    20.809      True     0.054\n",
      "   76.68    20.994      True     0.065\n",
      "   92.01    21.380      True     0.094\n",
      "  110.41    21.810      True     0.132\n",
      "  132.49    22.486      True     0.222\n",
      "  158.99    22.791      True     0.283\n",
      "  190.79    23.171      True     0.381\n",
      "  228.95    23.740      True     0.578\n"
     ]
    }
   ],
   "source": [
    "photo_data = import_photometric_profile(datapath='./sparc/sfb_LTG/',gal_ID=gal_id,num_rows=n_rows)\n",
    "\n",
    "plot_single_galaxy_photo_profile(photo_data, gal_id)\n",
    "\n",
    "# Print the raw photometric data for this galaxy\n",
    "photo_labels = photo_data.dtype.names\n",
    "print('Photometric Data')\n",
    "print('  '.join(['{:<8}'.format(item) for item in photo_labels]))\n",
    "for photo_line in photo_data:\n",
    "    photo_line_zip = zip([item for item in photo_line],photo_labels)\n",
    "    photo_print_arr = ['{:>8}'.format(str(item)) if name == 'Kill' else '{:>8.2f}'.format(item) if name == 'Radius' else '{:>8.3f}'.format(item) for item,name in photo_line_zip]\n",
    "    print('  '.join(photo_print_arr))"
   ]
  },
  {
   "cell_type": "code",
   "execution_count": 9,
   "id": "ddc79bc7-bd3c-462f-ba6a-8702337a6be7",
   "metadata": {},
   "outputs": [
    {
     "data": {
      "image/png": "[encoded data removed]",
      "text/plain": [
       "<Figure size 432x288 with 1 Axes>"
      ]
     },
     "metadata": {
      "needs_background": "light"
     },
     "output_type": "display_data"
    },
    {
     "name": "stdout",
     "output_type": "stream",
     "text": [
      "\n",
      "Bulge/Disk Decompositions\n",
      "Radius     SBdisk     SBbulge  \n",
      "  0.06074   78.34838    0.00000\n",
      "  0.07297   71.71831    0.00000\n",
      "  0.08752   71.58632    0.00000\n",
      "  0.10503   72.58218    0.00000\n",
      "  0.12590   76.07291    0.00000\n",
      "  0.15121   82.95260    0.00000\n",
      "  0.18137   81.06437    0.00000\n",
      "  0.21764   73.52415    0.00000\n",
      "  0.26109   75.51444    0.00000\n",
      "  0.31339   80.54341    0.00000\n",
      "  0.37602   79.80499    0.00000\n",
      "  0.45131   78.34838    0.00000\n",
      "  0.54158   67.05482    0.00000\n",
      "  0.64976   64.21404    0.00000\n",
      "  0.77989   62.34908    0.00000\n",
      "  0.93574   53.21451    0.00000\n",
      "  1.12301   45.33462    0.00000\n",
      "  1.34761   39.92363    0.00000\n",
      "  1.61713   33.66899    0.00000\n",
      "  1.94044   23.59555    0.00000\n",
      "  2.32848   15.87925    0.00000\n",
      "  2.79413    8.51981    0.00000\n",
      "  3.35300    6.43324    0.00000\n",
      "  4.02365    4.53346    0.00000\n",
      "  4.82842    2.68429    0.00000\n",
      "  5.63319    0.99147    0.00000\n"
     ]
    }
   ],
   "source": [
    "decomp_data = import_bulge_disk_decomps(datapath='./sparc/BulgeDiskDec_LTG/',gal_ID=gal_id,num_rows=n_rows)\n",
    "\n",
    "plot_single_galaxy_decomp(decomp_data, gal_id)\n",
    "\n",
    "# Print the bulge/disk decompositions for this galaxy\n",
    "dec_labels = decomp_data.dtype.names\n",
    "print('\\nBulge/Disk Decompositions')\n",
    "print('  '.join(['{:<9}'.format(item) for item in dec_labels]))\n",
    "for dec_line in decomp_data:\n",
    "    dec_line_zip = zip([item for item in dec_line],dec_labels)\n",
    "    dec_print_arr = ['{:>9.5f}'.format(item) for item,name in dec_line_zip]\n",
    "    print('  '.join(dec_print_arr))"
   ]
  },
  {
   "cell_type": "code",
   "execution_count": null,
   "id": "0af373ec-8dd5-4c89-944b-decebdc37f29",
   "metadata": {},
   "outputs": [],
   "source": []
  }
 ],
 "metadata": {
  "kernelspec": {
   "display_name": "Python 3 (ipykernel)",
   "language": "python",
   "name": "python3"
  },
  "language_info": {
   "codemirror_mode": {
    "name": "ipython",
    "version": 3
   },
   "file_extension": ".py",
   "mimetype": "text/x-python",
   "name": "python",
   "nbconvert_exporter": "python",
   "pygments_lexer": "ipython3",
   "version": "3.8.3"
  }
 },
 "nbformat": 4,
 "nbformat_minor": 5
}
