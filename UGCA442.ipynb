{
 "cells": [
  {
   "cell_type": "code",
   "execution_count": 1,
   "id": "bb1552ac-8155-47f7-a3ce-4372b5d41629",
   "metadata": {},
   "outputs": [],
   "source": [
    "import src.tools\n",
    "from src.main import *"
   ]
  },
  {
   "cell_type": "code",
   "execution_count": 2,
   "id": "12b4dc46-0b54-4f6f-9578-b6d250ef2582",
   "metadata": {},
   "outputs": [],
   "source": [
    "massmodels = import_massmodel_data(filepath='./sparc/MassModels_Lelli2016c.mrt')\n",
    "mm_dict = {mm['ID']: massmodels[massmodels['ID'] == mm['ID']] for mm in massmodels}\n",
    "metadata, refs = import_galaxy_sample_data(filepath='./sparc/SPARC_Lelli2016c.mrt')"
   ]
  },
  {
   "cell_type": "code",
   "execution_count": 3,
   "id": "57ee2c5b-3e19-4cb5-988e-024e7ca6fa5a",
   "metadata": {},
   "outputs": [],
   "source": [
    "gal_id = 'UGCA442'"
   ]
  },
  {
   "cell_type": "code",
   "execution_count": 4,
   "id": "10304822-566e-474c-95ee-2764083df5b4",
   "metadata": {},
   "outputs": [
    {
     "name": "stdout",
     "output_type": "stream",
     "text": [
      "ID\tT\tD\te_D\tf_D\tInc\te_Inc\tL\te_L\tReff\tSBeff\tRdisk\tSBdisk\tMHI\tRHI\tVflat\te_Vflat\tQ\tRef\n",
      "UGCA442\t9\t4.35\t0.22\t2\t64.0\t7.0\t0.14\t0.005\t1.71\t7.6\t1.18\t116.1\t0.263\t4.37\t56.4\t2.1\t1\tCo00\n",
      "Cote, S. et al. 2000, AJ, 120, 3027\n"
     ]
    }
   ],
   "source": [
    "# Print the overview for this galaxy\n",
    "print('\\t'.join(metadata[gal_id].dtype.names))\n",
    "print('\\t'.join([str(item) for item in metadata[gal_id]]))\n",
    "print(refs[metadata[gal_id]['Ref']])"
   ]
  },
  {
   "cell_type": "code",
   "execution_count": 14,
   "id": "6938a7a4-f740-4f78-8588-57fb5ccbda9a",
   "metadata": {},
   "outputs": [
    {
     "data": {
      "image/png": "[encoded data removed]",
      "text/plain": [
       "<Figure size 432x288 with 1 Axes>"
      ]
     },
     "metadata": {
      "needs_background": "light"
     },
     "output_type": "display_data"
    },
    {
     "name": "stdout",
     "output_type": "stream",
     "text": [
      "D\tR\tVobs\te_Vobs\tVgas\tVdisk\tVbul\tSBdisk\tSBbul\n",
      "4.35\t0.42\t14.2\t1.91\t4.87\t4.78\t0.0\t11.05\t0.0\n",
      "4.35\t1.26\t28.6\t1.82\t13.14\t10.76\t0.0\t5.81\t0.0\n",
      "4.35\t2.11\t41.0\t1.74\t19.65\t13.6\t0.0\t2.75\t0.0\n",
      "4.35\t2.96\t49.0\t1.91\t22.42\t13.29\t0.0\t1.0\t0.0\n",
      "4.35\t3.79\t54.8\t2.05\t22.82\t12.56\t0.0\t0.72\t0.0\n",
      "4.35\t4.65\t56.4\t3.12\t21.37\t12.33\t0.0\t0.43\t0.0\n",
      "4.35\t5.48\t57.8\t2.83\t18.73\t12.04\t0.0\t0.18\t0.0\n",
      "4.35\t6.33\t56.5\t0.65\t16.75\t10.62\t0.0\t0.0\t0.0\n"
     ]
    }
   ],
   "source": [
    "plot_single_galaxy(massmodels,gal_id)\n",
    "\n",
    "# Print the raw data for this galaxy as well\n",
    "labels = mm_dict[gal_id].dtype.names[1:]\n",
    "print('\\t'.join(labels))\n",
    "for mm_line in mm_dict[gal_id]:\n",
    "    mm_line_zip = zip([item for item in mm_line][1:],labels)\n",
    "    p_arr = [str(item) if name != 'T' else str(hubble_types[item]) for item,name in mm_line_zip]\n",
    "    print('\\t'.join(p_arr))"
   ]
  },
  {
   "cell_type": "code",
   "execution_count": 6,
   "id": "7d5df59d-2001-4308-8bff-10fbf283b2d4",
   "metadata": {},
   "outputs": [
    {
     "name": "stdout",
     "output_type": "stream",
     "text": [
      "[(  2.4 , 19.906, False, 0.025) (  2.88, 20.077,  True, 0.029)\n",
      " (  3.46, 20.173,  True, 0.031) (  4.15, 20.175,  True, 0.031)\n",
      " (  4.98, 20.16 ,  True, 0.031) (  5.97, 20.109,  True, 0.036)\n",
      " (  7.17, 20.015,  True, 0.04 ) (  8.6 , 20.04 ,  True, 0.036)\n",
      " ( 10.32, 20.146,  True, 0.031) ( 12.38, 20.117,  True, 0.037)\n",
      " ( 14.86, 20.047,  True, 0.04 ) ( 17.83, 20.057,  True, 0.049)\n",
      " ( 21.4 , 20.077,  True, 0.049) ( 25.68, 20.246,  True, 0.039)\n",
      " ( 30.81, 20.293,  True, 0.037) ( 36.98, 20.325,  True, 0.038)\n",
      " ( 44.37, 20.497,  True, 0.041) ( 53.25, 20.671,  True, 0.048)\n",
      " ( 63.9 , 20.809,  True, 0.054) ( 76.68, 20.994,  True, 0.065)\n",
      " ( 92.01, 21.38 ,  True, 0.094) (110.41, 21.81 ,  True, 0.132)\n",
      " (132.49, 22.486,  True, 0.222) (158.99, 22.791,  True, 0.283)\n",
      " (190.79, 23.171,  True, 0.381) (228.95, 23.74 ,  True, 0.578)]\n",
      "[(0.06074, 78.34838, 0.) (0.07297, 71.71831, 0.) (0.08752, 71.58632, 0.)\n",
      " (0.10503, 72.58218, 0.) (0.1259 , 76.07291, 0.) (0.15121, 82.9526 , 0.)\n",
      " (0.18137, 81.06437, 0.) (0.21764, 73.52415, 0.) (0.26109, 75.51444, 0.)\n",
      " (0.31339, 80.54341, 0.) (0.37602, 79.80499, 0.) (0.45131, 78.34838, 0.)\n",
      " (0.54158, 67.05482, 0.) (0.64976, 64.21404, 0.) (0.77989, 62.34908, 0.)\n",
      " (0.93574, 53.21451, 0.) (1.12301, 45.33462, 0.) (1.34761, 39.92363, 0.)\n",
      " (1.61713, 33.66899, 0.) (1.94044, 23.59555, 0.) (2.32848, 15.87925, 0.)\n",
      " (2.79413,  8.51981, 0.) (3.353  ,  6.43324, 0.) (4.02365,  4.53346, 0.)\n",
      " (4.82842,  2.68429, 0.) (5.63319,  0.99147, 0.)]\n"
     ]
    }
   ],
   "source": [
    "photo_data = import_photometric_profile(datapath='./sparc/sfb_LTG/',gal_ID=gal_id)\n",
    "decomp_data = import_bulge_disk_decomps(datapath='./sparc/BulgeDiskDec_LTG/',gal_ID=gal_id)\n",
    "\n",
    "print(photo_data)\n",
    "print(decomp_data)"
   ]
  },
  {
   "cell_type": "code",
   "execution_count": null,
   "id": "ddc79bc7-bd3c-462f-ba6a-8702337a6be7",
   "metadata": {},
   "outputs": [],
   "source": []
  },
  {
   "cell_type": "code",
   "execution_count": null,
   "id": "0af373ec-8dd5-4c89-944b-decebdc37f29",
   "metadata": {},
   "outputs": [],
   "source": []
  }
 ],
 "metadata": {
  "kernelspec": {
   "display_name": "Python 3 (ipykernel)",
   "language": "python",
   "name": "python3"
  },
  "language_info": {
   "codemirror_mode": {
    "name": "ipython",
    "version": 3
   },
   "file_extension": ".py",
   "mimetype": "text/x-python",
   "name": "python",
   "nbconvert_exporter": "python",
   "pygments_lexer": "ipython3",
   "version": "3.8.3"
  }
 },
 "nbformat": 4,
 "nbformat_minor": 5
}
